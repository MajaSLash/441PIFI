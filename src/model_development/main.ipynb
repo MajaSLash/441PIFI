{
 "cells": [
  {
   "cell_type": "markdown",
   "metadata": {},
   "source": [
    "# Model Development\n",
    "\n",
    "This workload is supposed to fetch the feature_engineered, preprocessed, scaled features from each individual person, alongside their gender, emotional state, and unique identifier, in order to train various models, which could also involve hyperparameter tuning based on the initial results of the model."
   ]
  },
  {
   "cell_type": "code",
   "execution_count": 30,
   "metadata": {},
   "outputs": [],
   "source": [
    "import pandas as pd\n",
    "\n",
    "model_ready_df = \"../feature_engineering/model_ready.csv\"\n",
    "model_df = pd.read_csv(model_ready_df)"
   ]
  },
  {
   "cell_type": "code",
   "execution_count": 31,
   "metadata": {},
   "outputs": [
    {
     "data": {
      "text/html": [
       "<div>\n",
       "<style scoped>\n",
       "    .dataframe tbody tr th:only-of-type {\n",
       "        vertical-align: middle;\n",
       "    }\n",
       "\n",
       "    .dataframe tbody tr th {\n",
       "        vertical-align: top;\n",
       "    }\n",
       "\n",
       "    .dataframe thead th {\n",
       "        text-align: right;\n",
       "    }\n",
       "</style>\n",
       "<table border=\"1\" class=\"dataframe\">\n",
       "  <thead>\n",
       "    <tr style=\"text-align: right;\">\n",
       "      <th></th>\n",
       "      <th>index</th>\n",
       "      <th>gender</th>\n",
       "      <th>person_id</th>\n",
       "      <th>neutral</th>\n",
       "      <th>smile</th>\n",
       "      <th>anger</th>\n",
       "      <th>left_light</th>\n",
       "      <th>EyeLengthRatio</th>\n",
       "      <th>EyeDistanceRatio</th>\n",
       "      <th>NoseRatio</th>\n",
       "      <th>LipSizeRatio</th>\n",
       "      <th>LipLengthRatio</th>\n",
       "      <th>EyeBrowLengthRatio</th>\n",
       "      <th>AggressiveRatio</th>\n",
       "    </tr>\n",
       "  </thead>\n",
       "  <tbody>\n",
       "    <tr>\n",
       "      <th>0</th>\n",
       "      <td>0</td>\n",
       "      <td>1</td>\n",
       "      <td>m001</td>\n",
       "      <td>1</td>\n",
       "      <td>0</td>\n",
       "      <td>0</td>\n",
       "      <td>0</td>\n",
       "      <td>-0.953240</td>\n",
       "      <td>-1.874377</td>\n",
       "      <td>0.465741</td>\n",
       "      <td>0.941153</td>\n",
       "      <td>-0.570940</td>\n",
       "      <td>2.860458</td>\n",
       "      <td>-0.249554</td>\n",
       "    </tr>\n",
       "    <tr>\n",
       "      <th>1</th>\n",
       "      <td>1</td>\n",
       "      <td>1</td>\n",
       "      <td>m001</td>\n",
       "      <td>0</td>\n",
       "      <td>1</td>\n",
       "      <td>0</td>\n",
       "      <td>0</td>\n",
       "      <td>-0.091681</td>\n",
       "      <td>-1.670062</td>\n",
       "      <td>-0.539163</td>\n",
       "      <td>-0.156945</td>\n",
       "      <td>0.134949</td>\n",
       "      <td>1.786591</td>\n",
       "      <td>-0.078427</td>\n",
       "    </tr>\n",
       "    <tr>\n",
       "      <th>2</th>\n",
       "      <td>2</td>\n",
       "      <td>1</td>\n",
       "      <td>m001</td>\n",
       "      <td>0</td>\n",
       "      <td>0</td>\n",
       "      <td>1</td>\n",
       "      <td>0</td>\n",
       "      <td>0.522945</td>\n",
       "      <td>-1.397896</td>\n",
       "      <td>-0.119616</td>\n",
       "      <td>0.345342</td>\n",
       "      <td>-0.138899</td>\n",
       "      <td>2.419592</td>\n",
       "      <td>0.009484</td>\n",
       "    </tr>\n",
       "    <tr>\n",
       "      <th>3</th>\n",
       "      <td>3</td>\n",
       "      <td>1</td>\n",
       "      <td>m001</td>\n",
       "      <td>0</td>\n",
       "      <td>0</td>\n",
       "      <td>0</td>\n",
       "      <td>1</td>\n",
       "      <td>-1.428806</td>\n",
       "      <td>-0.907017</td>\n",
       "      <td>0.297125</td>\n",
       "      <td>-0.166860</td>\n",
       "      <td>-1.371568</td>\n",
       "      <td>2.683468</td>\n",
       "      <td>-0.556948</td>\n",
       "    </tr>\n",
       "    <tr>\n",
       "      <th>4</th>\n",
       "      <td>4</td>\n",
       "      <td>1</td>\n",
       "      <td>m002</td>\n",
       "      <td>1</td>\n",
       "      <td>0</td>\n",
       "      <td>0</td>\n",
       "      <td>0</td>\n",
       "      <td>-0.222307</td>\n",
       "      <td>0.665548</td>\n",
       "      <td>-1.172176</td>\n",
       "      <td>-0.262928</td>\n",
       "      <td>-1.070341</td>\n",
       "      <td>0.898074</td>\n",
       "      <td>0.366138</td>\n",
       "    </tr>\n",
       "  </tbody>\n",
       "</table>\n",
       "</div>"
      ],
      "text/plain": [
       "   index  gender person_id  neutral  smile  anger  left_light  EyeLengthRatio  \\\n",
       "0      0       1      m001        1      0      0           0       -0.953240   \n",
       "1      1       1      m001        0      1      0           0       -0.091681   \n",
       "2      2       1      m001        0      0      1           0        0.522945   \n",
       "3      3       1      m001        0      0      0           1       -1.428806   \n",
       "4      4       1      m002        1      0      0           0       -0.222307   \n",
       "\n",
       "   EyeDistanceRatio  NoseRatio  LipSizeRatio  LipLengthRatio  \\\n",
       "0         -1.874377   0.465741      0.941153       -0.570940   \n",
       "1         -1.670062  -0.539163     -0.156945        0.134949   \n",
       "2         -1.397896  -0.119616      0.345342       -0.138899   \n",
       "3         -0.907017   0.297125     -0.166860       -1.371568   \n",
       "4          0.665548  -1.172176     -0.262928       -1.070341   \n",
       "\n",
       "   EyeBrowLengthRatio  AggressiveRatio  \n",
       "0            2.860458        -0.249554  \n",
       "1            1.786591        -0.078427  \n",
       "2            2.419592         0.009484  \n",
       "3            2.683468        -0.556948  \n",
       "4            0.898074         0.366138  "
      ]
     },
     "execution_count": 31,
     "metadata": {},
     "output_type": "execute_result"
    }
   ],
   "source": [
    "model_df.head()"
   ]
  },
  {
   "cell_type": "markdown",
   "metadata": {},
   "source": [
    "## Train Test Split\n",
    "\n",
    "Because we are dealing with such little data, we have to figure out what exactly to quantify as our training dataset. If we decide to not include person as part of our training, then the model will not be able to identify them correctly at all, so at the bare minimum, at least one emotion from each person should be within the training dataset.\n",
    "\n",
    "I've come to the conclusion that because we are dealing with face identification as our project (that could potentially be deployed for authentication scenarios / context), I believe it is best if the model is overfit to all of the training_data so we can ensure those who should be authenticated are able to, but for new users, the model should automatically reject them. We want this model to work extremely well with our initial 136 persons, but not necsesarily for those who are not part of the original dataset. In addition, we harm our model's performance overall if we decide to split this extremely small dataset into many portions as we will run out of data to effectively train various models."
   ]
  },
  {
   "cell_type": "code",
   "execution_count": 32,
   "metadata": {},
   "outputs": [
    {
     "data": {
      "text/html": [
       "<div>\n",
       "<style scoped>\n",
       "    .dataframe tbody tr th:only-of-type {\n",
       "        vertical-align: middle;\n",
       "    }\n",
       "\n",
       "    .dataframe tbody tr th {\n",
       "        vertical-align: top;\n",
       "    }\n",
       "\n",
       "    .dataframe thead th {\n",
       "        text-align: right;\n",
       "    }\n",
       "</style>\n",
       "<table border=\"1\" class=\"dataframe\">\n",
       "  <thead>\n",
       "    <tr style=\"text-align: right;\">\n",
       "      <th></th>\n",
       "      <th>index</th>\n",
       "      <th>gender</th>\n",
       "      <th>person_id</th>\n",
       "      <th>neutral</th>\n",
       "      <th>smile</th>\n",
       "      <th>anger</th>\n",
       "      <th>left_light</th>\n",
       "      <th>EyeLengthRatio</th>\n",
       "      <th>EyeDistanceRatio</th>\n",
       "      <th>NoseRatio</th>\n",
       "      <th>LipSizeRatio</th>\n",
       "      <th>LipLengthRatio</th>\n",
       "      <th>EyeBrowLengthRatio</th>\n",
       "      <th>AggressiveRatio</th>\n",
       "    </tr>\n",
       "  </thead>\n",
       "  <tbody>\n",
       "    <tr>\n",
       "      <th>0</th>\n",
       "      <td>0</td>\n",
       "      <td>1</td>\n",
       "      <td>m001</td>\n",
       "      <td>1</td>\n",
       "      <td>0</td>\n",
       "      <td>0</td>\n",
       "      <td>0</td>\n",
       "      <td>-0.953240</td>\n",
       "      <td>-1.874377</td>\n",
       "      <td>0.465741</td>\n",
       "      <td>0.941153</td>\n",
       "      <td>-0.570940</td>\n",
       "      <td>2.860458</td>\n",
       "      <td>-0.249554</td>\n",
       "    </tr>\n",
       "    <tr>\n",
       "      <th>1</th>\n",
       "      <td>1</td>\n",
       "      <td>1</td>\n",
       "      <td>m001</td>\n",
       "      <td>0</td>\n",
       "      <td>1</td>\n",
       "      <td>0</td>\n",
       "      <td>0</td>\n",
       "      <td>-0.091681</td>\n",
       "      <td>-1.670062</td>\n",
       "      <td>-0.539163</td>\n",
       "      <td>-0.156945</td>\n",
       "      <td>0.134949</td>\n",
       "      <td>1.786591</td>\n",
       "      <td>-0.078427</td>\n",
       "    </tr>\n",
       "    <tr>\n",
       "      <th>2</th>\n",
       "      <td>2</td>\n",
       "      <td>1</td>\n",
       "      <td>m001</td>\n",
       "      <td>0</td>\n",
       "      <td>0</td>\n",
       "      <td>1</td>\n",
       "      <td>0</td>\n",
       "      <td>0.522945</td>\n",
       "      <td>-1.397896</td>\n",
       "      <td>-0.119616</td>\n",
       "      <td>0.345342</td>\n",
       "      <td>-0.138899</td>\n",
       "      <td>2.419592</td>\n",
       "      <td>0.009484</td>\n",
       "    </tr>\n",
       "    <tr>\n",
       "      <th>3</th>\n",
       "      <td>3</td>\n",
       "      <td>1</td>\n",
       "      <td>m001</td>\n",
       "      <td>0</td>\n",
       "      <td>0</td>\n",
       "      <td>0</td>\n",
       "      <td>1</td>\n",
       "      <td>-1.428806</td>\n",
       "      <td>-0.907017</td>\n",
       "      <td>0.297125</td>\n",
       "      <td>-0.166860</td>\n",
       "      <td>-1.371568</td>\n",
       "      <td>2.683468</td>\n",
       "      <td>-0.556948</td>\n",
       "    </tr>\n",
       "    <tr>\n",
       "      <th>4</th>\n",
       "      <td>4</td>\n",
       "      <td>1</td>\n",
       "      <td>m002</td>\n",
       "      <td>1</td>\n",
       "      <td>0</td>\n",
       "      <td>0</td>\n",
       "      <td>0</td>\n",
       "      <td>-0.222307</td>\n",
       "      <td>0.665548</td>\n",
       "      <td>-1.172176</td>\n",
       "      <td>-0.262928</td>\n",
       "      <td>-1.070341</td>\n",
       "      <td>0.898074</td>\n",
       "      <td>0.366138</td>\n",
       "    </tr>\n",
       "  </tbody>\n",
       "</table>\n",
       "</div>"
      ],
      "text/plain": [
       "   index  gender person_id  neutral  smile  anger  left_light  EyeLengthRatio  \\\n",
       "0      0       1      m001        1      0      0           0       -0.953240   \n",
       "1      1       1      m001        0      1      0           0       -0.091681   \n",
       "2      2       1      m001        0      0      1           0        0.522945   \n",
       "3      3       1      m001        0      0      0           1       -1.428806   \n",
       "4      4       1      m002        1      0      0           0       -0.222307   \n",
       "\n",
       "   EyeDistanceRatio  NoseRatio  LipSizeRatio  LipLengthRatio  \\\n",
       "0         -1.874377   0.465741      0.941153       -0.570940   \n",
       "1         -1.670062  -0.539163     -0.156945        0.134949   \n",
       "2         -1.397896  -0.119616      0.345342       -0.138899   \n",
       "3         -0.907017   0.297125     -0.166860       -1.371568   \n",
       "4          0.665548  -1.172176     -0.262928       -1.070341   \n",
       "\n",
       "   EyeBrowLengthRatio  AggressiveRatio  \n",
       "0            2.860458        -0.249554  \n",
       "1            1.786591        -0.078427  \n",
       "2            2.419592         0.009484  \n",
       "3            2.683468        -0.556948  \n",
       "4            0.898074         0.366138  "
      ]
     },
     "execution_count": 32,
     "metadata": {},
     "output_type": "execute_result"
    }
   ],
   "source": [
    "model_df.head()"
   ]
  },
  {
   "cell_type": "code",
   "execution_count": 33,
   "metadata": {},
   "outputs": [],
   "source": [
    "# TODO: Figure out ideal train_test_split (deciding against due to small dataset)\n",
    "X = model_df.drop(['person_id', 'index'],axis=1)\n",
    "y = model_df['person_id']"
   ]
  },
  {
   "cell_type": "markdown",
   "metadata": {},
   "source": [
    "## Initial Model Development\n",
    "\n",
    "Parameters are chosen arbitrarily based on previous experience of what usually performed best in other classification scenarios. These parameters will be tuned if the initial models result with a great accuracy score. As this is classification, the cost function / accuracy result is based off of cross-entropy loss as we are dealing with a multinomial classification label problem."
   ]
  },
  {
   "cell_type": "code",
   "execution_count": 34,
   "metadata": {},
   "outputs": [
    {
     "data": {
      "text/plain": [
       "0.5265225933202358"
      ]
     },
     "execution_count": 34,
     "metadata": {},
     "output_type": "execute_result"
    }
   ],
   "source": [
    "from sklearn.neighbors import KNeighborsClassifier\n",
    "\n",
    "test_knn_model = KNeighborsClassifier(n_neighbors = 2)\n",
    "test_knn_model.fit(X, y)\n",
    "test_knn_model.score(X, y)"
   ]
  },
  {
   "cell_type": "code",
   "execution_count": 35,
   "metadata": {},
   "outputs": [
    {
     "data": {
      "text/plain": [
       "0.6168958742632613"
      ]
     },
     "execution_count": 35,
     "metadata": {},
     "output_type": "execute_result"
    }
   ],
   "source": [
    "from sklearn.linear_model import LogisticRegression\n",
    "\n",
    "clf = LogisticRegression()\n",
    "clf.fit(X, y)\n",
    "clf.score(X, y)"
   ]
  },
  {
   "cell_type": "code",
   "execution_count": 36,
   "metadata": {},
   "outputs": [
    {
     "name": "stderr",
     "output_type": "stream",
     "text": [
      "c:\\Users\\dines\\OneDrive\\Documents\\GitHub\\441PIFI\\.venv\\Lib\\site-packages\\sklearn\\neural_network\\_multilayer_perceptron.py:691: ConvergenceWarning: Stochastic Optimizer: Maximum iterations (300) reached and the optimization hasn't converged yet.\n",
      "  warnings.warn(\n"
     ]
    },
    {
     "data": {
      "text/plain": [
       "0.9882121807465619"
      ]
     },
     "execution_count": 36,
     "metadata": {},
     "output_type": "execute_result"
    }
   ],
   "source": [
    "from sklearn.neural_network import MLPClassifier\n",
    "\n",
    "m_clf = MLPClassifier(random_state=1, max_iter=300).fit(X, y)\n",
    "m_clf.score(X, y)"
   ]
  },
  {
   "cell_type": "code",
   "execution_count": 37,
   "metadata": {},
   "outputs": [
    {
     "data": {
      "text/plain": [
       "0.593320235756385"
      ]
     },
     "execution_count": 37,
     "metadata": {},
     "output_type": "execute_result"
    }
   ],
   "source": [
    "from sklearn.naive_bayes import GaussianNB\n",
    "\n",
    "nb = GaussianNB()\n",
    "nb.fit(X, y)\n",
    "nb.score(X, y)"
   ]
  }
 ],
 "metadata": {
  "kernelspec": {
   "display_name": ".venv",
   "language": "python",
   "name": "python3"
  },
  "language_info": {
   "codemirror_mode": {
    "name": "ipython",
    "version": 3
   },
   "file_extension": ".py",
   "mimetype": "text/x-python",
   "name": "python",
   "nbconvert_exporter": "python",
   "pygments_lexer": "ipython3",
   "version": "3.11.0"
  }
 },
 "nbformat": 4,
 "nbformat_minor": 2
}
